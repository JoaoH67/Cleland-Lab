{
 "cells": [
  {
   "cell_type": "code",
   "execution_count": 55,
   "id": "fcdda68a",
   "metadata": {},
   "outputs": [
    {
     "name": "stdout",
     "output_type": "stream",
     "text": [
      "Populating the interactive namespace from numpy and matplotlib\n"
     ]
    }
   ],
   "source": [
    "from qick import *\n",
    "from qick.averager_program import *\n",
    "from tqdm.notebook import tqdm\n",
    "import numpy as np\n",
    "import pandas as pd\n",
    "import csv\n",
    "from datetime import date\n",
    "from scipy.optimize import curve_fit\n",
    "from scipy.optimize import leastsq,minimize\n",
    "from scipy import stats\n",
    "from sklearn import svm\n",
    "import warnings\n",
    "warnings.filterwarnings('ignore')\n",
    "%pylab inline"
   ]
  },
  {
   "cell_type": "code",
   "execution_count": 56,
   "id": "f20da389",
   "metadata": {},
   "outputs": [
    {
     "name": "stdout",
     "output_type": "stream",
     "text": [
      "\n",
      "QICK configuration:\n",
      "\n",
      "\tBoard: ZCU216\n",
      "\n",
      "\tGlobal clocks (MHz): tProcessor 349.997, RF reference 245.760\n",
      "\n",
      "\t7 signal generator channels:\n",
      "\t0:\taxis_sg_int4_v1 - tProc output 0, envelope memory 4096 samples\n",
      "\t\tDAC tile 2, ch 0, 16-bit DDS, fabric=430.080 MHz, fs=1720.320 MHz\n",
      "\t1:\taxis_sg_int4_v1 - tProc output 1, envelope memory 4096 samples\n",
      "\t\tDAC tile 2, ch 1, 16-bit DDS, fabric=430.080 MHz, fs=1720.320 MHz\n",
      "\t2:\taxis_sg_int4_v1 - tProc output 2, envelope memory 4096 samples\n",
      "\t\tDAC tile 2, ch 2, 16-bit DDS, fabric=430.080 MHz, fs=1720.320 MHz\n",
      "\t3:\taxis_sg_int4_v1 - tProc output 3, envelope memory 4096 samples\n",
      "\t\tDAC tile 2, ch 3, 16-bit DDS, fabric=430.080 MHz, fs=1720.320 MHz\n",
      "\t4:\taxis_signal_gen_v6 - tProc output 4, envelope memory 65536 samples\n",
      "\t\tDAC tile 3, ch 0, 32-bit DDS, fabric=599.040 MHz, fs=9584.640 MHz\n",
      "\t5:\taxis_signal_gen_v6 - tProc output 5, envelope memory 65536 samples\n",
      "\t\tDAC tile 3, ch 1, 32-bit DDS, fabric=599.040 MHz, fs=9584.640 MHz\n",
      "\t6:\taxis_sg_mux4_v2 - tProc output 6, envelope memory 0 samples\n",
      "\t\tDAC tile 0, ch 0, 32-bit DDS, fabric=430.080 MHz, fs=1720.320 MHz\n",
      "\n",
      "\t4 constant-IQ outputs:\n",
      "\t0:\tDAC tile 1, ch 0, fs=6881.280 MHz\n",
      "\t1:\tDAC tile 1, ch 1, fs=6881.280 MHz\n",
      "\t2:\tDAC tile 1, ch 2, fs=6881.280 MHz\n",
      "\t3:\tDAC tile 1, ch 3, fs=6881.280 MHz\n",
      "\n",
      "\t4 readout channels:\n",
      "\t0:\taxis_pfb_readout_v2 - controlled by PYNQ\n",
      "\t\tADC tile 2, ch 0, 35-bit DDS, fabric=307.200 MHz, fs=2457.600 MHz\n",
      "\t\tmaxlen 1024 (avg) 1024 (decimated), trigger bit 4, tProc input 0\n",
      "\t1:\taxis_pfb_readout_v2 - controlled by PYNQ\n",
      "\t\tADC tile 2, ch 0, 35-bit DDS, fabric=307.200 MHz, fs=2457.600 MHz\n",
      "\t\tmaxlen 1024 (avg) 1024 (decimated), trigger bit 5, tProc input 1\n",
      "\t2:\taxis_pfb_readout_v2 - controlled by PYNQ\n",
      "\t\tADC tile 2, ch 0, 35-bit DDS, fabric=307.200 MHz, fs=2457.600 MHz\n",
      "\t\tmaxlen 1024 (avg) 1024 (decimated), trigger bit 6, tProc input 2\n",
      "\t3:\taxis_pfb_readout_v2 - controlled by PYNQ\n",
      "\t\tADC tile 2, ch 0, 35-bit DDS, fabric=307.200 MHz, fs=2457.600 MHz\n",
      "\t\tmaxlen 1024 (avg) 1024 (decimated), trigger bit 7, tProc input 3\n",
      "\n",
      "\t11 DACs:\n",
      "\t\tDAC tile 0, ch 0 is 0_228, on JHC1\n",
      "\t\tDAC tile 1, ch 0 is 0_229, on JHC1\n",
      "\t\tDAC tile 1, ch 1 is 1_229, on JHC2\n",
      "\t\tDAC tile 1, ch 2 is 2_229, on JHC1\n",
      "\t\tDAC tile 1, ch 3 is 3_229, on JHC2\n",
      "\t\tDAC tile 2, ch 0 is 0_230, on JHC3\n",
      "\t\tDAC tile 2, ch 1 is 1_230, on JHC4\n",
      "\t\tDAC tile 2, ch 2 is 2_230, on JHC3\n",
      "\t\tDAC tile 2, ch 3 is 3_230, on JHC4\n",
      "\t\tDAC tile 3, ch 0 is 0_231, on JHC3\n",
      "\t\tDAC tile 3, ch 1 is 1_231, on JHC4\n",
      "\n",
      "\t1 ADCs:\n",
      "\t\tADC tile 2, ch 0 is 0_226, on JHC7\n",
      "\n",
      "\t4 digital output pins (tProc output 7):\n",
      "\t0:\tPMOD0_0_LS\n",
      "\t1:\tPMOD0_1_LS\n",
      "\t2:\tPMOD0_2_LS\n",
      "\t3:\tPMOD0_3_LS\n",
      "\n",
      "\ttProc: program memory 131072 words, data memory 1024 words\n",
      "\t\texternal start pin: PMOD1_0_LS\n"
     ]
    }
   ],
   "source": [
    "soc = QickSoc(bitfile=\"q3diamond.bit\")\n",
    "soccfg = soc\n",
    "print(soccfg)"
   ]
  },
  {
   "cell_type": "code",
   "execution_count": 57,
   "id": "bcfb4553",
   "metadata": {},
   "outputs": [
    {
     "name": "stdout",
     "output_type": "stream",
     "text": [
      "<qick.qick.AxisSgInt4V1 object at 0xffff4fff26a0>\n",
      "500.0000000000094\n",
      "<qick.qick.AxisSgInt4V1 object at 0xffff4fff2970>\n",
      "500.0000000000094\n",
      "<qick.qick.AxisSgInt4V1 object at 0xffff4fff2d90>\n",
      "500.0000000000094\n",
      "<qick.qick.AxisSgInt4V1 object at 0xffff4fff2400>\n",
      "500.0000000000094\n",
      "<qick.qick.AxisSignalGen object at 0xffff4fff2c10>\n",
      "<qick.qick.AxisSignalGen object at 0xffff4fff2c70>\n",
      "<qick.qick.AxisSgMux4V2 object at 0xffff4fff2d30>\n",
      "500.0000000000094\n",
      "[0.0, 0.0, 0.0, 0.0]\n"
     ]
    }
   ],
   "source": [
    "for gen in soc.gens:\n",
    "    print(gen)\n",
    "    if gen.HAS_MIXER:\n",
    "        print(gen.get_mixer_freq())\n",
    "    if hasattr(gen, 'get_freq'):\n",
    "        print([gen.get_freq(i) for i in range(4)])"
   ]
  },
  {
   "cell_type": "code",
   "execution_count": 32,
   "id": "45588ffe",
   "metadata": {},
   "outputs": [],
   "source": [
    "class ContinuousMixerProgram(AveragerProgram):\n",
    "    def initialize(self):\n",
    "        cfg=self.cfg  \n",
    "        \n",
    "        res_ch = cfg[\"qubit_ch\"]\n",
    "        self.declare_gen(ch=res_ch, nqz=2, mixer_freq=cfg[\"mixer_freq\"], ro_ch=0)\n",
    "        \n",
    "        freq = self.freq2reg(cfg[\"pulse_freq\"],gen_ch=res_ch, ro_ch=0)\n",
    "        gain = cfg[\"pulse_gain\"]\n",
    "        \n",
    "        self.default_pulse_registers(ch=res_ch, freq=freq, phase=0, gain=gain)\n",
    "        self.set_pulse_registers(ch=res_ch, style=\"const\", length=cfg[\"length\"], mode=\"periodic\")\n",
    "        \n",
    "        self.synci(200)\n",
    "    \n",
    "    def body(self):\n",
    "        \n",
    "        self.pulse(ch=self.cfg[\"qubit_ch\"])\n",
    "        self.wait_all()"
   ]
  },
  {
   "cell_type": "code",
   "execution_count": 34,
   "id": "c240d355",
   "metadata": {},
   "outputs": [],
   "source": [
    "def MixerContinuousSignal(mix_freq, freq, gain):\n",
    "    config={\"qubit_ch\":2,\n",
    "            \"reps\":1,\n",
    "            \"relax_delay\":1.0,\n",
    "            \"length\":1000,\n",
    "            \"pulse_gain\":gain,\n",
    "            \"pulse_freq\":freq,\n",
    "            \"soft_avgs\":1,\n",
    "            \"mixer_freq\":mix_freq\n",
    "           }\n",
    "\n",
    "    prog =ContinuousMixerProgram(soccfg, config)\n",
    "    avgq, avgi = prog.acquire(soc, load_pulses=True, progress=True, debug=False)"
   ]
  },
  {
   "cell_type": "code",
   "execution_count": 35,
   "id": "c63ff63e",
   "metadata": {},
   "outputs": [
    {
     "data": {
      "application/vnd.jupyter.widget-view+json": {
       "model_id": "fe0fd617b37a4427bc3ca9536480b317",
       "version_major": 2,
       "version_minor": 0
      },
      "text/plain": [
       "  0%|          | 0/1 [00:00<?, ?it/s]"
      ]
     },
     "metadata": {},
     "output_type": "display_data"
    }
   ],
   "source": [
    "MixerContinuousSignal(5000, 800, 1000)"
   ]
  },
  {
   "cell_type": "code",
   "execution_count": 36,
   "id": "e3b9899e",
   "metadata": {},
   "outputs": [],
   "source": [
    "soc.reset_gens()"
   ]
  },
  {
   "cell_type": "markdown",
   "id": "30f24b13",
   "metadata": {},
   "source": [
    "# "
   ]
  },
  {
   "cell_type": "markdown",
   "id": "db699f8b",
   "metadata": {},
   "source": [
    "# "
   ]
  },
  {
   "cell_type": "markdown",
   "id": "135c6c59",
   "metadata": {},
   "source": [
    "# "
   ]
  },
  {
   "cell_type": "markdown",
   "id": "80f5e2c2",
   "metadata": {},
   "source": [
    "# "
   ]
  },
  {
   "cell_type": "markdown",
   "id": "dc528650",
   "metadata": {},
   "source": [
    "# "
   ]
  },
  {
   "cell_type": "markdown",
   "id": "9d346e29",
   "metadata": {},
   "source": [
    "# "
   ]
  },
  {
   "cell_type": "markdown",
   "id": "499750c6",
   "metadata": {},
   "source": [
    "# "
   ]
  },
  {
   "cell_type": "markdown",
   "id": "53c7928b",
   "metadata": {},
   "source": [
    "# "
   ]
  },
  {
   "cell_type": "markdown",
   "id": "be6bf0e5",
   "metadata": {},
   "source": [
    "# Find out how to send pulses with different lengths"
   ]
  },
  {
   "cell_type": "code",
   "execution_count": 60,
   "id": "6b8effcd",
   "metadata": {},
   "outputs": [
    {
     "data": {
      "application/vnd.jupyter.widget-view+json": {
       "model_id": "9aecf57d08a34a1eb4e75f33297bc5dd",
       "version_major": 2,
       "version_minor": 0
      },
      "text/plain": [
       "  0%|          | 0/100 [00:00<?, ?it/s]"
      ]
     },
     "metadata": {},
     "output_type": "display_data"
    }
   ],
   "source": [
    "class LoopbackProgram(AveragerProgram):\n",
    "    def __init__(self,soccfg,cfg):\n",
    "        super().__init__(soccfg,cfg)\n",
    "\n",
    "    def initialize(self):\n",
    "        cfg=self.cfg   \n",
    "        self.declare_gen(ch=cfg[\"res_ch\"], nqz=1, \n",
    "                         mixer_freq=cfg[\"mixer_freq\"], \n",
    "                         mux_freqs=cfg[\"pulse_freqs\"], \n",
    "                         mux_gains=cfg[\"pulse_gains\"], \n",
    "                         ro_ch=cfg[\"ro_chs\"][0])\n",
    "        \n",
    "        for iCh, ch in enumerate(cfg[\"ro_chs\"]):\n",
    "            self.declare_readout(ch=ch, freq=cfg[\"pulse_freqs\"][iCh], length=cfg[\"readout_length\"], gen_ch=cfg[\"res_ch\"])\n",
    "\n",
    "        self.synci(200)\n",
    "\n",
    "    def body(self):\n",
    "        cfg=self.cfg\n",
    "        self.set_pulse_registers(ch=cfg[\"res_ch\"], style=\"const\", length=cfg[\"length\"], mask=[1,2,3])\n",
    "        self.trigger(adcs=self.ro_chs, pins=[0],adc_trig_offset=self.cfg[\"adc_trig_offset\"])\n",
    "        self.pulse(ch=self.cfg[\"res_ch\"],t=0)\n",
    "\n",
    "        self.waiti(0, self.cfg[\"adc_trig_offset\"]+self.cfg[\"readout_length\"]) \n",
    "        self.sync_all(self.us2cycles(self.cfg[\"relax_delay\"]))\n",
    "        self.sync_all(0)\n",
    "\n",
    "config={\"res_ch\":6,\n",
    "        \"mixer_freq\":1000.0,\n",
    "        \"ro_chs\":[0,1,2,3],\n",
    "        \"reps\":100,\n",
    "        \"relax_delay\":10,\n",
    "        \"pulse_style\": \"const\",\n",
    "        \"length\":2**15-1,\n",
    "        \"readout_length\":300,\n",
    "        \"pulse_freqs\": [100, 300, 500, 700],\n",
    "        \"pulse_gains\": [1.0, -0.8, 0.6, -0.4],\n",
    "        \"adc_trig_offset\": 50,\n",
    "        \"soft_avgs\":100\n",
    "       }\n",
    "\n",
    "prog =LoopbackProgram(soccfg, config)\n",
    "avgi, avgq = prog.acquire(soc, load_pulses=True, progress=True, debug=False)"
   ]
  },
  {
   "cell_type": "code",
   "execution_count": 21,
   "id": "10acc33f",
   "metadata": {},
   "outputs": [],
   "source": [
    "soc.reset_gens()"
   ]
  }
 ],
 "metadata": {
  "kernelspec": {
   "display_name": "Python 3",
   "language": "python",
   "name": "python3"
  },
  "language_info": {
   "codemirror_mode": {
    "name": "ipython",
    "version": 3
   },
   "file_extension": ".py",
   "mimetype": "text/x-python",
   "name": "python",
   "nbconvert_exporter": "python",
   "pygments_lexer": "ipython3",
   "version": "3.8.2"
  }
 },
 "nbformat": 4,
 "nbformat_minor": 5
}
