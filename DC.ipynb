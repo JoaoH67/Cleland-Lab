{
 "cells": [
  {
   "cell_type": "code",
   "execution_count": 166,
   "metadata": {},
   "outputs": [
    {
     "name": "stdout",
     "output_type": "stream",
     "text": [
      "Populating the interactive namespace from numpy and matplotlib\n"
     ]
    }
   ],
   "source": [
    "# Import the QICK drivers and auxiliary libraries\n",
    "from qick import *\n",
    "from tqdm.notebook import tqdm\n",
    "import pandas as pd\n",
    "%pylab inline"
   ]
  },
  {
   "cell_type": "code",
   "execution_count": 27,
   "metadata": {},
   "outputs": [],
   "source": [
    "import numpy as np\n",
    "import matplotlib.pyplot as plt"
   ]
  },
  {
   "cell_type": "code",
   "execution_count": 167,
   "metadata": {},
   "outputs": [
    {
     "name": "stdout",
     "output_type": "stream",
     "text": [
      "\n",
      "QICK configuration:\n",
      "\n",
      "\tBoard: ZCU216\n",
      "\n",
      "\tGlobal clocks (MHz): tProcessor 430.080, RF reference 245.760\n",
      "\n",
      "\t7 signal generator channels:\n",
      "\t0:\taxis_signal_gen_v4 - tProc output 1, envelope memory 65536 samples\n",
      "\t\tDAC tile 2, ch 0, 32-bit DDS, fabric=430.080 MHz, fs=6881.280 MHz\n",
      "\t1:\taxis_signal_gen_v4 - tProc output 2, envelope memory 65536 samples\n",
      "\t\tDAC tile 2, ch 1, 32-bit DDS, fabric=430.080 MHz, fs=6881.280 MHz\n",
      "\t2:\taxis_signal_gen_v4 - tProc output 3, envelope memory 65536 samples\n",
      "\t\tDAC tile 2, ch 2, 32-bit DDS, fabric=430.080 MHz, fs=6881.280 MHz\n",
      "\t3:\taxis_signal_gen_v4 - tProc output 4, envelope memory 65536 samples\n",
      "\t\tDAC tile 2, ch 3, 32-bit DDS, fabric=430.080 MHz, fs=6881.280 MHz\n",
      "\t4:\taxis_signal_gen_v4 - tProc output 5, envelope memory 65536 samples\n",
      "\t\tDAC tile 3, ch 0, 32-bit DDS, fabric=430.080 MHz, fs=6881.280 MHz\n",
      "\t5:\taxis_signal_gen_v4 - tProc output 6, envelope memory 65536 samples\n",
      "\t\tDAC tile 3, ch 1, 32-bit DDS, fabric=430.080 MHz, fs=6881.280 MHz\n",
      "\t6:\taxis_signal_gen_v4 - tProc output 7, envelope memory 65536 samples\n",
      "\t\tDAC tile 3, ch 2, 32-bit DDS, fabric=430.080 MHz, fs=6881.280 MHz\n",
      "\n",
      "\t2 readout channels:\n",
      "\t0:\taxis_readout_v2 - controlled by PYNQ\n",
      "\t\tADC tile 2, ch 0, 32-bit DDS, fabric=307.200 MHz, fs=2457.600 MHz\n",
      "\t\tmaxlen 16384 (avg) 1024 (decimated), trigger bit 14, tProc input 0\n",
      "\t1:\taxis_readout_v2 - controlled by PYNQ\n",
      "\t\tADC tile 2, ch 2, 32-bit DDS, fabric=307.200 MHz, fs=2457.600 MHz\n",
      "\t\tmaxlen 16384 (avg) 1024 (decimated), trigger bit 15, tProc input 1\n",
      "\n",
      "\t7 DACs:\n",
      "\t\tDAC tile 2, ch 0 is 0_230, on JHC3\n",
      "\t\tDAC tile 2, ch 1 is 1_230, on JHC4\n",
      "\t\tDAC tile 2, ch 2 is 2_230, on JHC3\n",
      "\t\tDAC tile 2, ch 3 is 3_230, on JHC4\n",
      "\t\tDAC tile 3, ch 0 is 0_231, on JHC3\n",
      "\t\tDAC tile 3, ch 1 is 1_231, on JHC4\n",
      "\t\tDAC tile 3, ch 2 is 2_231, on JHC3\n",
      "\n",
      "\t2 ADCs:\n",
      "\t\tADC tile 2, ch 0 is 0_226, on JHC7\n",
      "\t\tADC tile 2, ch 2 is 2_226, on JHC7\n",
      "\n",
      "\t4 digital output pins (tProc output 0):\n",
      "\t0:\tPMOD0_0_LS\n",
      "\t1:\tPMOD0_1_LS\n",
      "\t2:\tPMOD0_2_LS\n",
      "\t3:\tPMOD0_3_LS\n",
      "\n",
      "\ttProc: program memory 8192 words, data memory 4096 words\n",
      "\t\texternal start pin: None\n"
     ]
    }
   ],
   "source": [
    "soc = QickSoc()\n",
    "soccfg = soc\n",
    "print(soccfg)"
   ]
  },
  {
   "cell_type": "markdown",
   "metadata": {},
   "source": [
    "### Hardware Configuration\n",
    "\n",
    "generator channel 6   : DAC 229 CH3  <-> Readout channel 0 : ADC 224 CH0"
   ]
  },
  {
   "cell_type": "code",
   "execution_count": 168,
   "metadata": {},
   "outputs": [],
   "source": [
    "class LoopbackProgram(AveragerProgram):\n",
    "    def initialize(self):\n",
    "        cfg=self.cfg   \n",
    "        res_ch = cfg[\"res_ch\"]\n",
    "\n",
    "        self.declare_gen(ch=cfg[\"res_ch\"], nqz=1)\n",
    "\n",
    "        self.add_gauss(ch=res_ch, name=\"measure\", sigma=cfg[\"sigma\"], length=cfg[\"length\"])\n",
    "        maxv=32766\n",
    "        self.add_pulse(ch=cfg[\"res_ch\"], name=\"test\", idata=np.ones(6400)*maxv)\n",
    "        \n",
    "        self.set_pulse_registers(ch=res_ch, outsel=\"input\", style=\"arb\", phase=0, \n",
    "                                freq=0, waveform=\"test\", gain=cfg[\"pulse_gain\"], mode=\"periodic\")\n",
    "        \n",
    "        #elf.set_pulse_registers(ch=res_ch, outsel=\"input\", style=\"const\", phase=0, \n",
    "                                #freq=0, length=, gain=cfg[\"pulse_gain\"])\n",
    "        \n",
    "        self.synci(200)\n",
    "    \n",
    "    def body(self):\n",
    "        \n",
    "        self.pulse(ch=self.cfg[\"res_ch\"])\n",
    "        self.wait_all()"
   ]
  },
  {
   "cell_type": "markdown",
   "metadata": {},
   "source": [
    "### Send/receive a pulse with <code> pulse_style </code> = <code> const </code>"
   ]
  },
  {
   "cell_type": "code",
   "execution_count": 176,
   "metadata": {
    "scrolled": true
   },
   "outputs": [
    {
     "data": {
      "application/vnd.jupyter.widget-view+json": {
       "model_id": "999221ce2b774987858d1e3eb3580578",
       "version_major": 2,
       "version_minor": 0
      },
      "text/plain": [
       "  0%|          | 0/100 [00:00<?, ?it/s]"
      ]
     },
     "metadata": {},
     "output_type": "display_data"
    }
   ],
   "source": [
    "config={\"res_ch\":6,\n",
    "        \"reps\":1,\n",
    "        \"relax_delay\":1.0,\n",
    "        \"res_phase\":0,\n",
    "        \"length\":1000,\n",
    "\n",
    "        \"pulse_gain\":1000,\n",
    "\n",
    "        \"pulse_freq\": 0,\n",
    "\n",
    "        \"adc_trig_offset\": 100,\n",
    "\n",
    "        \"soft_avgs\":100,\n",
    "        \n",
    "        \"sigma\":128\n",
    "\n",
    "       }\n",
    "\n",
    "prog =LoopbackProgram(soccfg, config)\n",
    "avgq, avgi = prog.acquire(soc, load_pulses=True, progress=True, debug=False)"
   ]
  },
  {
   "cell_type": "code",
   "execution_count": 177,
   "metadata": {},
   "outputs": [],
   "source": [
    "soc.reset_gens()"
   ]
  },
  {
   "cell_type": "code",
   "execution_count": 59,
   "metadata": {},
   "outputs": [],
   "source": [
    "def gen_dc_waveform(gen, b_volt, m_volt=None, freq=None):\n",
    "    if freq is not None:\n",
    "        period=1/freq/0.0026\n",
    "        if period>65535:\n",
    "            raise Exception('Modulating frequency needs to be higher')\n",
    "        x_points=np.arange(65535//period*period)\n",
    "        y_data=m_volt/cfg[\"gain2dc\"][gen]*1000*np.sin(2*np.pi/period*x_points)\n",
    "    else:\n",
    "        x_points=np.arange(65535)\n",
    "        y_data=32767*np.ones(65535)\n",
    "    y_data+=(b_volt-cfg[\"dc_offset\"][gen])/cfg[\"gain2dc\"][gen]*1000\n",
    "    plt.plot(x_points, y_data)"
   ]
  }
 ],
 "metadata": {
  "kernelspec": {
   "display_name": "Python 3 (ipykernel)",
   "language": "python",
   "name": "python3"
  },
  "language_info": {
   "codemirror_mode": {
    "name": "ipython",
    "version": 3
   },
   "file_extension": ".py",
   "mimetype": "text/x-python",
   "name": "python",
   "nbconvert_exporter": "python",
   "pygments_lexer": "ipython3",
   "version": "3.9.12"
  }
 },
 "nbformat": 4,
 "nbformat_minor": 2
}
